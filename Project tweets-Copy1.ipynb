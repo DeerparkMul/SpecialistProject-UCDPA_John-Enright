{
 "cells": [
  {
   "cell_type": "code",
   "execution_count": 1,
   "id": "cde9d9dd",
   "metadata": {},
   "outputs": [],
   "source": [
    "#importing the required libraries & packages\n",
    "import pandas as pd\n",
    "import numpy as np\n",
    "import matplotlib as plt\n",
    "import seaborn as sns\n",
    "\n",
    "df2= pd.read_csv('C:/Users/DR/Desktop/SPT/Tweet.csv')\n",
    "\n",
    "\n",
    "\n"
   ]
  },
  {
   "cell_type": "code",
   "execution_count": 2,
   "id": "4f29ce54",
   "metadata": {},
   "outputs": [
    {
     "data": {
      "text/html": [
       "<div>\n",
       "<style scoped>\n",
       "    .dataframe tbody tr th:only-of-type {\n",
       "        vertical-align: middle;\n",
       "    }\n",
       "\n",
       "    .dataframe tbody tr th {\n",
       "        vertical-align: top;\n",
       "    }\n",
       "\n",
       "    .dataframe thead th {\n",
       "        text-align: right;\n",
       "    }\n",
       "</style>\n",
       "<table border=\"1\" class=\"dataframe\">\n",
       "  <thead>\n",
       "    <tr style=\"text-align: right;\">\n",
       "      <th></th>\n",
       "      <th>tweet_id</th>\n",
       "      <th>writer</th>\n",
       "      <th>post_date</th>\n",
       "      <th>body</th>\n",
       "      <th>comment_num</th>\n",
       "      <th>retweet_num</th>\n",
       "      <th>like_num</th>\n",
       "    </tr>\n",
       "  </thead>\n",
       "  <tbody>\n",
       "    <tr>\n",
       "      <th>0</th>\n",
       "      <td>550441509175443456</td>\n",
       "      <td>VisualStockRSRC</td>\n",
       "      <td>1420070457</td>\n",
       "      <td>lx21 made $10,008  on $AAPL -Check it out! htt...</td>\n",
       "      <td>0</td>\n",
       "      <td>0</td>\n",
       "      <td>1</td>\n",
       "    </tr>\n",
       "    <tr>\n",
       "      <th>1</th>\n",
       "      <td>550441672312512512</td>\n",
       "      <td>KeralaGuy77</td>\n",
       "      <td>1420070496</td>\n",
       "      <td>Insanity of today weirdo massive selling. $aap...</td>\n",
       "      <td>0</td>\n",
       "      <td>0</td>\n",
       "      <td>0</td>\n",
       "    </tr>\n",
       "    <tr>\n",
       "      <th>2</th>\n",
       "      <td>550441732014223360</td>\n",
       "      <td>DozenStocks</td>\n",
       "      <td>1420070510</td>\n",
       "      <td>S&amp;P100 #Stocks Performance $HD $LOW $SBUX $TGT...</td>\n",
       "      <td>0</td>\n",
       "      <td>0</td>\n",
       "      <td>0</td>\n",
       "    </tr>\n",
       "    <tr>\n",
       "      <th>3</th>\n",
       "      <td>550442977802207232</td>\n",
       "      <td>ShowDreamCar</td>\n",
       "      <td>1420070807</td>\n",
       "      <td>$GM $TSLA: Volkswagen Pushes 2014 Record Recal...</td>\n",
       "      <td>0</td>\n",
       "      <td>0</td>\n",
       "      <td>1</td>\n",
       "    </tr>\n",
       "    <tr>\n",
       "      <th>4</th>\n",
       "      <td>550443807834402816</td>\n",
       "      <td>i_Know_First</td>\n",
       "      <td>1420071005</td>\n",
       "      <td>Swing Trading: Up To 8.91% Return In 14 Days h...</td>\n",
       "      <td>0</td>\n",
       "      <td>0</td>\n",
       "      <td>1</td>\n",
       "    </tr>\n",
       "    <tr>\n",
       "      <th>...</th>\n",
       "      <td>...</td>\n",
       "      <td>...</td>\n",
       "      <td>...</td>\n",
       "      <td>...</td>\n",
       "      <td>...</td>\n",
       "      <td>...</td>\n",
       "      <td>...</td>\n",
       "    </tr>\n",
       "    <tr>\n",
       "      <th>95</th>\n",
       "      <td>550490701562003457</td>\n",
       "      <td>paulchertyk</td>\n",
       "      <td>1420082185</td>\n",
       "      <td>$tsla $scty Just gotta wait and be patient wit...</td>\n",
       "      <td>0</td>\n",
       "      <td>0</td>\n",
       "      <td>0</td>\n",
       "    </tr>\n",
       "    <tr>\n",
       "      <th>96</th>\n",
       "      <td>550491399788183553</td>\n",
       "      <td>Michael_Vasanth</td>\n",
       "      <td>1420082352</td>\n",
       "      <td>RT CNBC: Earlier this month, a mysterious glit...</td>\n",
       "      <td>0</td>\n",
       "      <td>0</td>\n",
       "      <td>0</td>\n",
       "    </tr>\n",
       "    <tr>\n",
       "      <th>97</th>\n",
       "      <td>550493870069678080</td>\n",
       "      <td>caroltheva</td>\n",
       "      <td>1420082940</td>\n",
       "      <td>Option Greeks are critical in Options trading ...</td>\n",
       "      <td>0</td>\n",
       "      <td>0</td>\n",
       "      <td>0</td>\n",
       "    </tr>\n",
       "    <tr>\n",
       "      <th>98</th>\n",
       "      <td>550494346978398209</td>\n",
       "      <td>Pharmdca</td>\n",
       "      <td>1420083054</td>\n",
       "      <td>@JoeP450 betting big on $cytr $gild $baba $aap...</td>\n",
       "      <td>1</td>\n",
       "      <td>0</td>\n",
       "      <td>1</td>\n",
       "    </tr>\n",
       "    <tr>\n",
       "      <th>99</th>\n",
       "      <td>550494473474433024</td>\n",
       "      <td>Maximum_Pain_cm</td>\n",
       "      <td>1420083084</td>\n",
       "      <td>$GOOG Max Pain is 530.00 for maturity 01/02/20...</td>\n",
       "      <td>0</td>\n",
       "      <td>0</td>\n",
       "      <td>0</td>\n",
       "    </tr>\n",
       "  </tbody>\n",
       "</table>\n",
       "<p>100 rows × 7 columns</p>\n",
       "</div>"
      ],
      "text/plain": [
       "              tweet_id           writer   post_date  \\\n",
       "0   550441509175443456  VisualStockRSRC  1420070457   \n",
       "1   550441672312512512      KeralaGuy77  1420070496   \n",
       "2   550441732014223360      DozenStocks  1420070510   \n",
       "3   550442977802207232     ShowDreamCar  1420070807   \n",
       "4   550443807834402816     i_Know_First  1420071005   \n",
       "..                 ...              ...         ...   \n",
       "95  550490701562003457      paulchertyk  1420082185   \n",
       "96  550491399788183553  Michael_Vasanth  1420082352   \n",
       "97  550493870069678080       caroltheva  1420082940   \n",
       "98  550494346978398209         Pharmdca  1420083054   \n",
       "99  550494473474433024  Maximum_Pain_cm  1420083084   \n",
       "\n",
       "                                                 body  comment_num  \\\n",
       "0   lx21 made $10,008  on $AAPL -Check it out! htt...            0   \n",
       "1   Insanity of today weirdo massive selling. $aap...            0   \n",
       "2   S&P100 #Stocks Performance $HD $LOW $SBUX $TGT...            0   \n",
       "3   $GM $TSLA: Volkswagen Pushes 2014 Record Recal...            0   \n",
       "4   Swing Trading: Up To 8.91% Return In 14 Days h...            0   \n",
       "..                                                ...          ...   \n",
       "95  $tsla $scty Just gotta wait and be patient wit...            0   \n",
       "96  RT CNBC: Earlier this month, a mysterious glit...            0   \n",
       "97  Option Greeks are critical in Options trading ...            0   \n",
       "98  @JoeP450 betting big on $cytr $gild $baba $aap...            1   \n",
       "99  $GOOG Max Pain is 530.00 for maturity 01/02/20...            0   \n",
       "\n",
       "    retweet_num  like_num  \n",
       "0             0         1  \n",
       "1             0         0  \n",
       "2             0         0  \n",
       "3             0         1  \n",
       "4             0         1  \n",
       "..          ...       ...  \n",
       "95            0         0  \n",
       "96            0         0  \n",
       "97            0         0  \n",
       "98            0         1  \n",
       "99            0         0  \n",
       "\n",
       "[100 rows x 7 columns]"
      ]
     },
     "execution_count": 2,
     "metadata": {},
     "output_type": "execute_result"
    }
   ],
   "source": [
    "df=df2.iloc[:100]\n",
    "df"
   ]
  },
  {
   "cell_type": "code",
   "execution_count": null,
   "id": "2d0f93bb",
   "metadata": {},
   "outputs": [],
   "source": []
  },
  {
   "cell_type": "code",
   "execution_count": null,
   "id": "bb493162",
   "metadata": {
    "scrolled": true
   },
   "outputs": [],
   "source": []
  },
  {
   "cell_type": "code",
   "execution_count": null,
   "id": "cf6c8655",
   "metadata": {},
   "outputs": [],
   "source": [
    "\n"
   ]
  },
  {
   "cell_type": "code",
   "execution_count": null,
   "id": "f945555d",
   "metadata": {},
   "outputs": [],
   "source": []
  },
  {
   "cell_type": "code",
   "execution_count": null,
   "id": "6c44b414",
   "metadata": {},
   "outputs": [],
   "source": []
  },
  {
   "cell_type": "code",
   "execution_count": null,
   "id": "440e452b",
   "metadata": {},
   "outputs": [],
   "source": []
  },
  {
   "cell_type": "code",
   "execution_count": null,
   "id": "dd1cf5f2",
   "metadata": {},
   "outputs": [],
   "source": []
  },
  {
   "cell_type": "code",
   "execution_count": null,
   "id": "0133d9aa",
   "metadata": {},
   "outputs": [],
   "source": []
  },
  {
   "cell_type": "code",
   "execution_count": null,
   "id": "7709a623",
   "metadata": {},
   "outputs": [],
   "source": [
    "#Below is relevant part"
   ]
  },
  {
   "cell_type": "code",
   "execution_count": 3,
   "id": "2ab606fe",
   "metadata": {},
   "outputs": [
    {
     "name": "stderr",
     "output_type": "stream",
     "text": [
      "[nltk_data] Downloading package vader_lexicon to\n",
      "[nltk_data]     C:\\Users\\DR\\AppData\\Roaming\\nltk_data...\n",
      "[nltk_data]   Package vader_lexicon is already up-to-date!\n"
     ]
    },
    {
     "data": {
      "text/plain": [
       "True"
      ]
     },
     "execution_count": 3,
     "metadata": {},
     "output_type": "execute_result"
    }
   ],
   "source": [
    "import re\n",
    "import pandas as pd\n",
    "import matplotlib.pyplot as plt\n",
    "import nltk\n",
    "from nltk.sentiment.vader import SentimentIntensityAnalyzer\n",
    "nltk.download('vader_lexicon')"
   ]
  },
  {
   "cell_type": "code",
   "execution_count": 4,
   "id": "86277c7a",
   "metadata": {},
   "outputs": [
    {
     "name": "stdout",
     "output_type": "stream",
     "text": [
      "             tweet_id           writer   post_date  \\\n",
      "0  550441509175443456  VisualStockRSRC  1420070457   \n",
      "1  550441672312512512      KeralaGuy77  1420070496   \n",
      "2  550441732014223360      DozenStocks  1420070510   \n",
      "3  550442977802207232     ShowDreamCar  1420070807   \n",
      "4  550443807834402816     i_Know_First  1420071005   \n",
      "5  550443808606126081    aaplstocknews  1420071005   \n",
      "6  550443809700851716       iknowfirst  1420071005   \n",
      "7  550443857142611968      Cprediction  1420071016   \n",
      "8  550443857595600896    iknowfirst_br  1420071017   \n",
      "9  550443857692078081  Gold_prediction  1420071017   \n",
      "\n",
      "                                                body  comment_num  \\\n",
      "0  lx21 made $10,008  on $AAPL -Check it out! htt...            0   \n",
      "1  Insanity of today weirdo massive selling. $aap...            0   \n",
      "2  S&P100 #Stocks Performance $HD $LOW $SBUX $TGT...            0   \n",
      "3  $GM $TSLA: Volkswagen Pushes 2014 Record Recal...            0   \n",
      "4  Swing Trading: Up To 8.91% Return In 14 Days h...            0   \n",
      "5  Swing Trading: Up To 8.91% Return In 14 Days h...            0   \n",
      "6  Swing Trading: Up To 8.91% Return In 14 Days h...            0   \n",
      "7  Swing Trading: Up To 8.91% Return In 14 Days h...            0   \n",
      "8  Swing Trading: Up To 8.91% Return In 14 Days h...            0   \n",
      "9  Swing Trading: Up To 8.91% Return In 14 Days h...            0   \n",
      "\n",
      "   retweet_num  like_num  row_id  \n",
      "0            0         1       1  \n",
      "1            0         0       2  \n",
      "2            0         0       3  \n",
      "3            0         1       4  \n",
      "4            0         1       5  \n",
      "5            0         1       6  \n",
      "6            0         1       7  \n",
      "7            0         1       8  \n",
      "8            0         1       9  \n",
      "9            0         1      10  \n"
     ]
    },
    {
     "name": "stderr",
     "output_type": "stream",
     "text": [
      "<ipython-input-4-f9f2fcc4edde>:1: SettingWithCopyWarning: \n",
      "A value is trying to be set on a copy of a slice from a DataFrame.\n",
      "Try using .loc[row_indexer,col_indexer] = value instead\n",
      "\n",
      "See the caveats in the documentation: https://pandas.pydata.org/pandas-docs/stable/user_guide/indexing.html#returning-a-view-versus-a-copy\n",
      "  df[\"row_id\"] = df.index + 1\n"
     ]
    }
   ],
   "source": [
    "\n",
    "df[\"row_id\"] = df.index + 1\n",
    "#print first 10 rows \n",
    "print (df.head(10))"
   ]
  },
  {
   "cell_type": "code",
   "execution_count": 5,
   "id": "229d526a",
   "metadata": {},
   "outputs": [
    {
     "name": "stdout",
     "output_type": "stream",
     "text": [
      "             tweet_id                                               body\n",
      "0  550441509175443456  lx   made          on  aapl  check it out  htt...\n",
      "1  550441672312512512  insanity of today weirdo massive selling   aap...\n",
      "2  550441732014223360  s p    #stocks performance  hd  low  sbux  tgt...\n",
      "3  550442977802207232   gm  tsla  volkswagen pushes      record recal...\n",
      "4  550443807834402816  swing trading  up to       return in    days h...\n",
      "5  550443808606126081  swing trading  up to       return in    days h...\n",
      "6  550443809700851716  swing trading  up to       return in    days h...\n",
      "7  550443857142611968  swing trading  up to       return in    days h...\n",
      "8  550443857595600896  swing trading  up to       return in    days h...\n",
      "9  550443857692078081  swing trading  up to       return in    days h...\n"
     ]
    },
    {
     "name": "stderr",
     "output_type": "stream",
     "text": [
      "<ipython-input-5-cdb6f11821c3>:5: FutureWarning: The default value of regex will change from True to False in a future version.\n",
      "  df_subset['body'] = df_subset['body'].str.replace(\"[^a-zA-Z#]\", \" \")\n"
     ]
    }
   ],
   "source": [
    "#create a new data frame with \"id\" and \"comment\" fields\n",
    "df_subset = df[['tweet_id', 'body']].copy()\n",
    "#data clean-up\n",
    "#remove all non-aphabet characters\n",
    "df_subset['body'] = df_subset['body'].str.replace(\"[^a-zA-Z#]\", \" \")\n",
    "#covert to lower-case\n",
    "df_subset['body'] = df_subset['body'].str.casefold()\n",
    "print (df_subset.head(10))"
   ]
  },
  {
   "cell_type": "code",
   "execution_count": 6,
   "id": "bce792c3",
   "metadata": {},
   "outputs": [],
   "source": [
    "# set up empty dataframe for staging output\n",
    "df1=pd.DataFrame()\n",
    "df1['tweet_id']=['99999999999']\n",
    "df1['sentiment_type']='NA999NA'\n",
    "df1['sentiment_score']=0"
   ]
  },
  {
   "cell_type": "code",
   "execution_count": 7,
   "id": "446947e7",
   "metadata": {},
   "outputs": [
    {
     "name": "stdout",
     "output_type": "stream",
     "text": [
      "Processing sentiment analysis...\n",
      "             tweet_id sentiment_type  sentiment_score\n",
      "0  550441509175443456       compound           0.8779\n",
      "0  550441672312512512       compound          -0.8271\n",
      "0  550441732014223360       compound          -0.2732\n",
      "0  550442977802207232       compound           0.0000\n",
      "0  550443807834402816       compound           0.5574\n",
      "0  550443808606126081       compound           0.5574\n",
      "0  550443809700851716       compound           0.5574\n",
      "0  550443857142611968       compound           0.5574\n",
      "0  550443857595600896       compound           0.5574\n",
      "0  550443857692078081       compound           0.5574\n"
     ]
    }
   ],
   "source": [
    "print('Processing sentiment analysis...')\n",
    "sid = SentimentIntensityAnalyzer()\n",
    "t_df = df1\n",
    "for index, row in df_subset.iterrows():\n",
    "    scores = sid.polarity_scores(row[1])\n",
    "    for key, value in scores.items():\n",
    "        temp = [key,value,row[0]]\n",
    "        df1['tweet_id']=row[0]\n",
    "        df1['sentiment_type']=key\n",
    "        df1['sentiment_score']=value\n",
    "        t_df=t_df.append(df1)\n",
    "#remove dummy row with tweet_id = 99999999999\n",
    "t_df_cleaned = t_df[t_df.tweet_id != '99999999999']\n",
    "#remove duplicates if any exist\n",
    "t_df_cleaned = t_df_cleaned.drop_duplicates()\n",
    "# only keep rows where sentiment_type = compound\n",
    "t_df_cleaned = t_df[t_df.sentiment_type == 'compound']\n",
    "print(t_df_cleaned.head(10))"
   ]
  },
  {
   "cell_type": "code",
   "execution_count": 8,
   "id": "16b1fdaa",
   "metadata": {},
   "outputs": [
    {
     "name": "stdout",
     "output_type": "stream",
     "text": [
      "             tweet_id           writer   post_date  \\\n",
      "0  550441509175443456  VisualStockRSRC  1420070457   \n",
      "1  550441672312512512      KeralaGuy77  1420070496   \n",
      "2  550441732014223360      DozenStocks  1420070510   \n",
      "3  550442977802207232     ShowDreamCar  1420070807   \n",
      "4  550443807834402816     i_Know_First  1420071005   \n",
      "5  550443808606126081    aaplstocknews  1420071005   \n",
      "6  550443809700851716       iknowfirst  1420071005   \n",
      "7  550443857142611968      Cprediction  1420071016   \n",
      "8  550443857595600896    iknowfirst_br  1420071017   \n",
      "9  550443857692078081  Gold_prediction  1420071017   \n",
      "\n",
      "                                                body  comment_num  \\\n",
      "0  lx21 made $10,008  on $AAPL -Check it out! htt...            0   \n",
      "1  Insanity of today weirdo massive selling. $aap...            0   \n",
      "2  S&P100 #Stocks Performance $HD $LOW $SBUX $TGT...            0   \n",
      "3  $GM $TSLA: Volkswagen Pushes 2014 Record Recal...            0   \n",
      "4  Swing Trading: Up To 8.91% Return In 14 Days h...            0   \n",
      "5  Swing Trading: Up To 8.91% Return In 14 Days h...            0   \n",
      "6  Swing Trading: Up To 8.91% Return In 14 Days h...            0   \n",
      "7  Swing Trading: Up To 8.91% Return In 14 Days h...            0   \n",
      "8  Swing Trading: Up To 8.91% Return In 14 Days h...            0   \n",
      "9  Swing Trading: Up To 8.91% Return In 14 Days h...            0   \n",
      "\n",
      "   retweet_num  like_num  row_id sentiment_type  sentiment_score  \n",
      "0            0         1       1       compound           0.8779  \n",
      "1            0         0       2       compound          -0.8271  \n",
      "2            0         0       3       compound          -0.2732  \n",
      "3            0         1       4       compound           0.0000  \n",
      "4            0         1       5       compound           0.5574  \n",
      "5            0         1       6       compound           0.5574  \n",
      "6            0         1       7       compound           0.5574  \n",
      "7            0         1       8       compound           0.5574  \n",
      "8            0         1       9       compound           0.5574  \n",
      "9            0         1      10       compound           0.5574  \n"
     ]
    }
   ],
   "source": [
    "#merge dataframes\n",
    "df_output = pd.merge(df, t_df_cleaned, on='tweet_id', how='inner')\n",
    "print(df_output.head(10))"
   ]
  },
  {
   "cell_type": "code",
   "execution_count": 9,
   "id": "1aa2897f",
   "metadata": {},
   "outputs": [
    {
     "data": {
      "text/html": [
       "<div>\n",
       "<style scoped>\n",
       "    .dataframe tbody tr th:only-of-type {\n",
       "        vertical-align: middle;\n",
       "    }\n",
       "\n",
       "    .dataframe tbody tr th {\n",
       "        vertical-align: top;\n",
       "    }\n",
       "\n",
       "    .dataframe thead th {\n",
       "        text-align: right;\n",
       "    }\n",
       "</style>\n",
       "<table border=\"1\" class=\"dataframe\">\n",
       "  <thead>\n",
       "    <tr style=\"text-align: right;\">\n",
       "      <th></th>\n",
       "      <th>sentiment_score</th>\n",
       "    </tr>\n",
       "  </thead>\n",
       "  <tbody>\n",
       "    <tr>\n",
       "      <th>count</th>\n",
       "      <td>100.000000</td>\n",
       "    </tr>\n",
       "    <tr>\n",
       "      <th>mean</th>\n",
       "      <td>0.113409</td>\n",
       "    </tr>\n",
       "    <tr>\n",
       "      <th>std</th>\n",
       "      <td>0.494997</td>\n",
       "    </tr>\n",
       "    <tr>\n",
       "      <th>min</th>\n",
       "      <td>-0.872000</td>\n",
       "    </tr>\n",
       "    <tr>\n",
       "      <th>25%</th>\n",
       "      <td>-0.273200</td>\n",
       "    </tr>\n",
       "    <tr>\n",
       "      <th>50%</th>\n",
       "      <td>0.127900</td>\n",
       "    </tr>\n",
       "    <tr>\n",
       "      <th>75%</th>\n",
       "      <td>0.557400</td>\n",
       "    </tr>\n",
       "    <tr>\n",
       "      <th>max</th>\n",
       "      <td>0.916900</td>\n",
       "    </tr>\n",
       "  </tbody>\n",
       "</table>\n",
       "</div>"
      ],
      "text/plain": [
       "       sentiment_score\n",
       "count       100.000000\n",
       "mean          0.113409\n",
       "std           0.494997\n",
       "min          -0.872000\n",
       "25%          -0.273200\n",
       "50%           0.127900\n",
       "75%           0.557400\n",
       "max           0.916900"
      ]
     },
     "execution_count": 9,
     "metadata": {},
     "output_type": "execute_result"
    }
   ],
   "source": [
    "df_output[[\"sentiment_score\"]].describe()"
   ]
  },
  {
   "cell_type": "code",
   "execution_count": 11,
   "id": "e5ef17ff",
   "metadata": {},
   "outputs": [
    {
     "data": {
      "text/plain": [
       "<AxesSubplot:title={'center':'Sentiment Score'}, xlabel='Period', ylabel='Mean Sentiment Score'>"
      ]
     },
     "execution_count": 11,
     "metadata": {},
     "output_type": "execute_result"
    },
    {
     "data": {
      "image/png": "[encoded data removed]",
      "text/plain": [
       "<Figure size 432x360 with 1 Axes>"
      ]
     },
     "metadata": {
      "needs_background": "light"
     },
     "output_type": "display_data"
    }
   ],
   "source": [
    "#generate mean of sentiment_score by period\n",
    "dfg = df_output.groupby(['writer'])['sentiment_score'].mean()\n",
    "#create a bar plot\n",
    "dfg.plot(kind='bar', title='Sentiment Score', ylabel='Mean Sentiment Score',\n",
    "         xlabel='Period', figsize=(6, 5))"
   ]
  },
  {
   "cell_type": "code",
   "execution_count": null,
   "id": "f83316b1",
   "metadata": {},
   "outputs": [],
   "source": []
  }
 ],
 "metadata": {
  "kernelspec": {
   "display_name": "Python 3",
   "language": "python",
   "name": "python3"
  },
  "language_info": {
   "codemirror_mode": {
    "name": "ipython",
    "version": 3
   },
   "file_extension": ".py",
   "mimetype": "text/x-python",
   "name": "python",
   "nbconvert_exporter": "python",
   "pygments_lexer": "ipython3",
   "version": "3.8.8"
  }
 },
 "nbformat": 4,
 "nbformat_minor": 5
}
